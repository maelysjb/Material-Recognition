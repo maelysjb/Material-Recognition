{
 "cells": [
  {
   "cell_type": "markdown",
   "metadata": {},
   "source": [
    "*Instructions*\n",
    "\n",
    "*Can simply run the code with the defined parameters. *Input* cell is where the parameters can be changed."
   ]
  },
  {
   "cell_type": "markdown",
   "metadata": {},
   "source": [
    "Import Libraries"
   ]
  },
  {
   "cell_type": "code",
   "execution_count": 21,
   "metadata": {},
   "outputs": [],
   "source": [
    "import os\n",
    "import numpy as np\n",
    "import shutil\n",
    "import cv2\n",
    "from sklearn.model_selection import train_test_split\n",
    "\n",
    "SEED = 42\n",
    "import random \n",
    "random.seed(SEED)\n",
    "import numpy as np\n",
    "np.random.seed(SEED)\n",
    "import tensorflow as tf\n",
    "tf.random.set_seed(SEED)"
   ]
  },
  {
   "cell_type": "markdown",
   "metadata": {},
   "source": [
    "# ** Inputs ** "
   ]
  },
  {
   "cell_type": "code",
   "execution_count": 22,
   "metadata": {},
   "outputs": [],
   "source": [
    "# Location of image classes\n",
    "Fmd_class_path = os.path.join('FMD', 'image')\n",
    "\n",
    "#New Folder Name\n",
    "new_folder_name = 'FMD_tvt'\n",
    "\n",
    "#Percentage of Train Data \n",
    "train_percentage = 0.6\n",
    "\n",
    "#Percentage of Not train data is validation\n",
    "val_percentage = 0.5  # (Test Data percentage is (1-val_percentage))"
   ]
  },
  {
   "cell_type": "markdown",
   "metadata": {},
   "source": [
    "Path of Data Folder"
   ]
  },
  {
   "cell_type": "code",
   "execution_count": 23,
   "metadata": {},
   "outputs": [
    {
     "name": "stdout",
     "output_type": "stream",
     "text": [
      "['fabric', 'foliage', 'glass', 'leather', 'metal', 'paper', 'plastic', 'stone', 'water', 'wood']\n"
     ]
    }
   ],
   "source": [
    "tvt_folders = ['train', 'val', 'test']\n",
    "im_folders = ['image', 'mask']\n",
    "classes = os.listdir(os.path.join(Fmd_class_path))\n",
    "print(classes)"
   ]
  },
  {
   "cell_type": "code",
   "execution_count": 24,
   "metadata": {},
   "outputs": [],
   "source": [
    "#Removal of NON JPG files\n",
    "if os.path.exists('FMD\\image\\\\fabric\\\\normalizeImage.asv'):\n",
    "    os.remove('FMD\\image\\\\fabric\\\\normalizeImage.asv')\n",
    "    os.remove('FMD\\image\\\\fabric\\\\normalizeImage.m')\n"
   ]
  },
  {
   "cell_type": "markdown",
   "metadata": {},
   "source": [
    "## Make the New Folder"
   ]
  },
  {
   "cell_type": "code",
   "execution_count": 25,
   "metadata": {},
   "outputs": [],
   "source": [
    "def make_FMD_tvt(file_name, classes, tvt_folders, im_folders):\n",
    "    if not os.path.exists(os.path.join(file_name)):\n",
    "        for tvt in tvt_folders:\n",
    "            for im in im_folders:\n",
    "                for class_ in classes:\n",
    "                    os.makedirs(os.path.join(file_name, tvt, im, class_))"
   ]
  },
  {
   "cell_type": "markdown",
   "metadata": {},
   "source": [
    "Run Function"
   ]
  },
  {
   "cell_type": "code",
   "execution_count": 26,
   "metadata": {},
   "outputs": [],
   "source": [
    "make_FMD_tvt(new_folder_name, classes, tvt_folders, im_folders)"
   ]
  },
  {
   "cell_type": "markdown",
   "metadata": {},
   "source": [
    "# Move the Images from FMD to new Folder"
   ]
  },
  {
   "cell_type": "code",
   "execution_count": 27,
   "metadata": {},
   "outputs": [],
   "source": [
    "def split_train_test(class_name, train_per, val_per, new_folder_name, tvt_folders, im_folders):\n",
    "    image_names = os.listdir(os.path.join('FMD', 'image', class_name))\n",
    "    train_imgs, test_imgs = train_test_split(image_names, train_size= train_per, test_size= (1 - train_per), random_state=SEED)\n",
    "    val_imgs, test_imgs = train_test_split(test_imgs, train_size= val_per, test_size= (1 - val_per), random_state=SEED)\n",
    "    tvt_list = [train_imgs, val_imgs, test_imgs]\n",
    "\n",
    "    for i in range(len(tvt_folders)):\n",
    "        for j in range(len(tvt_list[i])):\n",
    "            source_path = os.path.join('FMD', im_folders[0], class_name, tvt_list[i][j])\n",
    "            destination_path = os.path.join(new_folder_name, tvt_folders[i], im_folders[0], class_name)\n",
    "            shutil.copy(source_path, destination_path)\n",
    "    return"
   ]
  },
  {
   "cell_type": "markdown",
   "metadata": {},
   "source": [
    "Run Function"
   ]
  },
  {
   "cell_type": "code",
   "execution_count": 28,
   "metadata": {},
   "outputs": [],
   "source": [
    "#Split train stuff accordingly\n",
    "for i in range(len(classes)):\n",
    "  split_train_test(classes[i], train_percentage, val_percentage, new_folder_name, tvt_folders, im_folders)"
   ]
  },
  {
   "cell_type": "markdown",
   "metadata": {},
   "source": [
    "# Move Masks"
   ]
  },
  {
   "cell_type": "code",
   "execution_count": null,
   "metadata": {},
   "outputs": [],
   "source": [
    "def move_masks(class_name, new_folder_name, tvt_folders, im_folders):\n",
    "    train_list = os.listdir(os.path.join(new_folder_name, tvt_folders[0], im_folders[0], class_name))\n",
    "    val_list = os.listdir(os.path.join(new_folder_name, tvt_folders[1], im_folders[0], class_name))\n",
    "    test_list = os.listdir(os.path.join(new_folder_name, tvt_folders[2], im_folders[0], class_name))\n",
    "\n",
    "    tvt_list = [train_list, val_list, test_list]\n",
    "  \n",
    "    for i in range(len(tvt_list)):\n",
    "        for j in range(len(tvt_list[i])):\n",
    "            source_path = os.path.join('FMD', im_folders[1], class_name, tvt_list[i][j])\n",
    "            destination_path = os.path.join(new_folder_name, tvt_folders[i], im_folders[1], class_name)\n",
    "            if os.path.exists(source_path):\n",
    "                shutil.copy(source_path, destination_path)\n",
    "    return"
   ]
  },
  {
   "cell_type": "markdown",
   "metadata": {},
   "source": [
    "Run Function"
   ]
  },
  {
   "cell_type": "code",
   "execution_count": null,
   "metadata": {},
   "outputs": [],
   "source": [
    "#Split train stuff accordingly\n",
    "for i in range(len(classes)):\n",
    "  move_masks(classes[i], new_folder_name, tvt_folders, im_folders)"
   ]
  }
 ],
 "metadata": {
  "kernelspec": {
   "display_name": "Python 3.10.4",
   "language": "python",
   "name": "python3"
  },
  "language_info": {
   "codemirror_mode": {
    "name": "ipython",
    "version": 3
   },
   "file_extension": ".py",
   "mimetype": "text/x-python",
   "name": "python",
   "nbconvert_exporter": "python",
   "pygments_lexer": "ipython3",
   "version": "3.10.4"
  },
  "orig_nbformat": 4,
  "vscode": {
   "interpreter": {
    "hash": "b942636a785217c0b780635fcfa4dacafb5d46c802d84d4ffbd090c16749e713"
   }
  }
 },
 "nbformat": 4,
 "nbformat_minor": 2
}
